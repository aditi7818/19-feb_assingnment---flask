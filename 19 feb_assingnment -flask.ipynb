{
 "cells": [
  {
   "cell_type": "code",
   "execution_count": null,
   "id": "6aa11fb9-0a41-486f-914b-15c080e48c37",
   "metadata": {},
   "outputs": [],
   "source": [
    "Question: What is Flask Framework? What are advantages of Flask Framework?\n",
    "Answer: \n",
    "Flask is a  web framework, it is a python module that lets you develop web applications easily. it has a small and easy-to-etend core. it is a microframework that does\n",
    "not include an ORM(Object Relational Manager) or such features.\n",
    "\n",
    "It doess have many cool features like url routing, templateengine. it is a WSGI web app framework. \n",
    "Flask was created by Armin Ronacher.\n",
    "\n",
    "Companies that are using Flask: MIT, Uber, Reddit, Netflix, Mozilla, Airbnb, Lyft, etc.\n",
    "\n",
    "Advantages of Flask:\n",
    "    \n",
    "1. Lightwieght: Flask is a lightweight framework because it is independent of external libraries and it gives a quick start for web development having complex applications.\n",
    "\n",
    "2. Compatible: Flask is compatible with the latest techonologies such as machine learning, agile development, cloud technologies, etc.\n",
    "\n",
    "3. Indepented: Flask allows full control to the developers for creating web applications. A developer can do the experiment with the libaries and architecture of the framework.\n",
    "\n",
    "4. Integrated Unit Testing: Flask offers an integrated unit testing feature that helps in faster debugging, robust development, and independence to doexperiments.\n",
    "\n",
    "5. Flexible and scalable: Flak supports WSGI templates that help in flexibilty and scalability in the web development process.\n",
    "\n",
    "6. Secure Cookies: Secure cookie is an attribute of an HTTP request that enables the security of channels and ensure no unatuhorized person has access to the text. Flask supports \n",
    "the features of secure cokkies."
   ]
  },
  {
   "cell_type": "code",
   "execution_count": null,
   "id": "28193a0e-b03a-4c4e-8705-e386ea48a9a4",
   "metadata": {},
   "outputs": [],
   "source": [
    "Question 2: Create a simple Flask application to display 'Hello World!!'. Attach the screenshot of the output in jupyter Notebook.\n",
    "Answer:"
   ]
  },
  {
   "cell_type": "markdown",
   "id": "62ac20e7-8a2d-4a8d-a596-2faf65ffc56d",
   "metadata": {},
   "source": []
  },
  {
   "cell_type": "code",
   "execution_count": null,
   "id": "98bf0667-db9c-4052-ac47-d7636688d835",
   "metadata": {},
   "outputs": [],
   "source": [
    "Question 3: What is App routing in Flask? Why do use app routes?\n",
    "Answer: \n",
    "App Routing means mapping the URLs to a specific function that will handle the logic for that URL. Modern web frameworks use more meaningful URLs to help users remember the\n",
    "URLs and make navigation simpler.\n",
    "\n",
    "Use of app route:\n",
    "App routing is used to map the specific URL with the associated function that is indented to perfome some tasks. it is used to access some particular page like Flask Tutorial \n",
    "in the web application.\n",
    "In our first application. the URL('/') is associated with the home function that reurns a particular string displayed on the web page.\n",
    "\n",
    "In other words, we can say that if we visit the particular URL mapped to some particular function, the output of that function is renderd on the browers's screen.\n"
   ]
  },
  {
   "cell_type": "code",
   "execution_count": null,
   "id": "4181e21a-381d-4ae9-882a-ca705bda9b7a",
   "metadata": {},
   "outputs": [],
   "source": [
    "Question 4: Create a \"/welcome\" route to display the welcome message\" Welcome to ABc Coporation\" and a \"/\" route to show the following details:\n",
    "    Company Name: ABC Coporation\n",
    "    Location: India\n",
    "    Contact Detail: 999-999-9999\n",
    "    \n",
    "Attach the sceenshot of the output in jupter Notebook.\n",
    "\n",
    "Answer:"
   ]
  },
  {
   "cell_type": "markdown",
   "id": "cfbf108d-8ac0-426e-adea-3de7b1e6063a",
   "metadata": {},
   "source": [
    "Question 5: What function is used in Flask for URL Building? Write a python code to demonstrate the working of the url_for() function.\n",
    "Answer: \n",
    "Flask url_for is defined as a function that enables developers to build and generate URLs on a Flask application. As a best practice, it is the url_for function that is requried \n",
    "to be used, as hard coding the URL in templates and view function of the Flask application tends to utilize more time during modification. if we are using hard coding, and in \n",
    "case we would need to change our URL by inserting another element in URl, we would have to visit each and every template or form in the code libraray and make the modifications and \n",
    "will lead to overkill. The url_for function is capable of changing this with just a snap of fingers!\n",
    "\n",
    "Syntax:\n",
    "It is time now for us to look into different syntax that is present to url_for function before we even dive into learning the working of url_for. This will help us mapsyntax to the\n",
    "working metodology so that the learning is more practical and eaiser to gradp. so, without much further ado, let us get straight into the syntax!\n",
    "\n",
    "Creating dynamic URL with no key passed:\n",
    "    url_for('<function names>')\n",
    "    \n",
    "# Note: we need to make sure that the function name does not carry any argument, elase it might lead to an error.\n",
    "\n",
    "Creating a dynamic  URL with a key and corresponding value passed:\n",
    "    url_for('<Function names>', <Key> = <value>)\n",
    "    \n",
    "Examples:\n",
    "Creating Dynamic URL with no key passed(Run it on console)\n",
    "\n",
    "Syntax:\n",
    "\n",
    "from flask import url_for, Flask\n",
    "appFlask = Flask(__name__)\n",
    "@appFlask.route('/home')\n",
    "def home():\n",
    "    return 'we are in Home Page!'\n",
    "With appFlask.test_request_context():\n",
    "    print(url_for('login'))"
   ]
  }
 ],
 "metadata": {
  "kernelspec": {
   "display_name": "Python 3 (ipykernel)",
   "language": "python",
   "name": "python3"
  },
  "language_info": {
   "codemirror_mode": {
    "name": "ipython",
    "version": 3
   },
   "file_extension": ".py",
   "mimetype": "text/x-python",
   "name": "python",
   "nbconvert_exporter": "python",
   "pygments_lexer": "ipython3",
   "version": "3.10.8"
  }
 },
 "nbformat": 4,
 "nbformat_minor": 5
}
